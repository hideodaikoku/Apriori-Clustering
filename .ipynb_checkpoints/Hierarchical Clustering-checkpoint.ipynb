{
 "cells": [
  {
   "cell_type": "code",
   "execution_count": 13,
   "metadata": {},
   "outputs": [],
   "source": [
    "from numpy import genfromtxt\n",
    "orchids = genfromtxt('imgdata.csv', delimiter=',')"
   ]
  },
  {
   "cell_type": "code",
   "execution_count": 14,
   "metadata": {},
   "outputs": [
    {
     "data": {
      "text/plain": [
       "array([[0.8, 0.3, 0.1, 0. , 0. ],\n",
       "       [0.2, 0.3, 0.6, 1. , 0.2],\n",
       "       [1. , 0. , 0.3, 0.9, 0.1],\n",
       "       [1. , 1. , 0.6, 0. , 0. ],\n",
       "       [1. , 0. , 0. , 0.3, 0. ],\n",
       "       [1. , 0.2, 1. , 1. , 0.6],\n",
       "       [0.8, 0. , 1. , 1. , 0.3],\n",
       "       [0. , 0.9, 0. , 0.2, 0.2],\n",
       "       [0.3, 1. , 0.2, 1. , 0.6],\n",
       "       [0.1, 0. , 0. , 1. , 0.4],\n",
       "       [1. , 0. , 1. , 1. , 0.2],\n",
       "       [1. , 0. , 1. , 0. , 0. ],\n",
       "       [1. , 0. , 1. , 0. , 0.3],\n",
       "       [0. , 0. , 0. , 0. , 0.3],\n",
       "       [0. , 0.3, 1. , 0.5, 1. ],\n",
       "       [0. , 1. , 0.6, 1. , 0.4],\n",
       "       [1. , 0. , 0.3, 1. , 0.2],\n",
       "       [1. , 0.5, 1. , 0.1, 1. ],\n",
       "       [1. , 0.7, 1. , 0.6, 0.2],\n",
       "       [1. , 0. , 1. , 1. , 0.6]])"
      ]
     },
     "execution_count": 14,
     "metadata": {},
     "output_type": "execute_result"
    }
   ],
   "source": [
    "orchids"
   ]
  },
  {
   "cell_type": "code",
   "execution_count": 21,
   "metadata": {},
   "outputs": [
    {
     "data": {
      "text/plain": [
       "array([0, 1, 0, 0, 0, 0, 0, 1, 1, 1, 0, 0, 0, 1, 0, 1, 0, 0, 0, 0])"
      ]
     },
     "execution_count": 21,
     "metadata": {},
     "output_type": "execute_result"
    }
   ],
   "source": [
    "from sklearn.cluster import AgglomerativeClustering\n",
    "\n",
    "cluster = AgglomerativeClustering(n_clusters=2, affinity='euclidean', linkage='ward')  \n",
    "cluster.fit_predict(orchids)  "
   ]
  },
  {
   "cell_type": "code",
   "execution_count": 22,
   "metadata": {},
   "outputs": [
    {
     "data": {
      "text/plain": [
       "<matplotlib.collections.PathCollection at 0x1a17aa3390>"
      ]
     },
     "execution_count": 22,
     "metadata": {},
     "output_type": "execute_result"
    },
    {
     "data": {
      "image/png": "[encoded data removed]",
      "text/plain": [
       "<Figure size 432x288 with 1 Axes>"
      ]
     },
     "metadata": {
      "needs_background": "light"
     },
     "output_type": "display_data"
    }
   ],
   "source": [
    "plt.scatter(orchids[:,0],orchids[:,1], c=cluster.labels_, cmap='rainbow') "
   ]
  },
  {
   "cell_type": "code",
   "execution_count": null,
   "metadata": {},
   "outputs": [],
   "source": []
  },
  {
   "cell_type": "code",
   "execution_count": null,
   "metadata": {},
   "outputs": [],
   "source": []
  }
 ],
 "metadata": {
  "kernelspec": {
   "display_name": "Python 3",
   "language": "python",
   "name": "python3"
  },
  "language_info": {
   "codemirror_mode": {
    "name": "ipython",
    "version": 3
   },
   "file_extension": ".py",
   "mimetype": "text/x-python",
   "name": "python",
   "nbconvert_exporter": "python",
   "pygments_lexer": "ipython3",
   "version": "3.7.1"
  }
 },
 "nbformat": 4,
 "nbformat_minor": 2
}
